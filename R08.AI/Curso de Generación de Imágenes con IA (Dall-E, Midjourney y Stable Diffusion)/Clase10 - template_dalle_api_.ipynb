{
  "cells": [
    {
      "cell_type": "markdown",
      "source": [
        "# Usando la API de DALL-E con Python"
      ],
      "metadata": {
        "id": "iHPaE1eB0a3P"
      }
    },
    {
      "cell_type": "markdown",
      "source": [
        "## Instalación de librería de OpenAI"
      ],
      "metadata": {
        "id": "0WuBCccC0g2X"
      }
    },
    {
      "cell_type": "code",
      "execution_count": null,
      "outputs": [],
      "source": [
        "!pip install openai"
      ],
      "metadata": {
        "pycharm": {
          "name": "#%%\n"
        },
        "id": "cvLNDaqp0UTU"
      }
    },
    {
      "cell_type": "code",
      "execution_count": null,
      "outputs": [],
      "source": [
        "import openai\n",
        "\n",
        "openai.api_key = "
      ],
      "metadata": {
        "pycharm": {
          "name": "#%%\n"
        },
        "id": "JsHOUvRH0UTa"
      }
    },
    {
      "cell_type": "markdown",
      "source": [
        "## Consumir API"
      ],
      "metadata": {
        "id": "sSg6wL3U06Gs"
      }
    },
    {
      "cell_type": "code",
      "execution_count": null,
      "metadata": {
        "collapsed": true,
        "id": "ssEZFW9n0UTb"
      },
      "outputs": [],
      "source": []
    },
    {
      "cell_type": "code",
      "execution_count": null,
      "outputs": [],
      "source": [],
      "metadata": {
        "pycharm": {
          "name": "#%%\n"
        },
        "id": "tBsp6ap60UTd"
      }
    },
    {
      "cell_type": "code",
      "execution_count": null,
      "outputs": [],
      "source": [
        "from PIL import Image\n",
        "import requests \n",
        "from io import BytesIO"
      ],
      "metadata": {
        "pycharm": {
          "name": "#%%\n"
        },
        "id": "XMiOpW-u0UTe"
      }
    },
    {
      "cell_type": "code",
      "execution_count": null,
      "outputs": [],
      "source": [],
      "metadata": {
        "pycharm": {
          "name": "#%%\n"
        },
        "id": "SH93_BoI0UTf"
      }
    },
    {
      "cell_type": "code",
      "execution_count": null,
      "outputs": [],
      "source": [],
      "metadata": {
        "pycharm": {
          "name": "#%%\n"
        },
        "id": "YhGugWd-0UTg"
      }
    },
    {
      "cell_type": "code",
      "source": [],
      "metadata": {
        "id": "PjkmG0CfCzAe"
      },
      "execution_count": null,
      "outputs": []
    },
    {
      "cell_type": "code",
      "source": [],
      "metadata": {
        "id": "tZPoUdN5C7Ql"
      },
      "execution_count": null,
      "outputs": []
    },
    {
      "cell_type": "markdown",
      "source": [
        "## Uso del API para variations"
      ],
      "metadata": {
        "collapsed": false,
        "pycharm": {
          "name": "#%% md\n"
        },
        "id": "-k49RUBg0UTh"
      }
    },
    {
      "cell_type": "code",
      "execution_count": null,
      "outputs": [],
      "source": [],
      "metadata": {
        "pycharm": {
          "name": "#%%\n"
        },
        "id": "qzUV7P5u0UTk"
      }
    },
    {
      "cell_type": "code",
      "source": [],
      "metadata": {
        "id": "cFyQkX_aATyg"
      },
      "execution_count": null,
      "outputs": []
    },
    {
      "cell_type": "code",
      "source": [],
      "metadata": {
        "id": "0cyL8tf4DX_8"
      },
      "execution_count": null,
      "outputs": []
    },
    {
      "cell_type": "markdown",
      "source": [
        "## Imágenes en memoria"
      ],
      "metadata": {
        "collapsed": false,
        "pycharm": {
          "name": "#%% md\n"
        },
        "id": "kMG77BM70UTl"
      }
    },
    {
      "cell_type": "code",
      "execution_count": null,
      "outputs": [],
      "source": [],
      "metadata": {
        "pycharm": {
          "name": "#%%\n"
        },
        "id": "BOUtOgew0UTm"
      }
    },
    {
      "cell_type": "code",
      "execution_count": null,
      "outputs": [],
      "source": [],
      "metadata": {
        "pycharm": {
          "name": "#%%\n"
        },
        "id": "cLoC0XR30UTn"
      }
    },
    {
      "cell_type": "code",
      "execution_count": null,
      "outputs": [],
      "source": [],
      "metadata": {
        "pycharm": {
          "name": "#%%\n"
        },
        "id": "TeYC-nId0UTo"
      }
    }
  ],
  "metadata": {
    "kernelspec": {
      "display_name": "Python 3",
      "language": "python",
      "name": "python3"
    },
    "language_info": {
      "codemirror_mode": {
        "name": "ipython",
        "version": 2
      },
      "file_extension": ".py",
      "mimetype": "text/x-python",
      "name": "python",
      "nbconvert_exporter": "python",
      "pygments_lexer": "ipython2",
      "version": "2.7.6"
    },
    "colab": {
      "provenance": []
    }
  },
  "nbformat": 4,
  "nbformat_minor": 0
}